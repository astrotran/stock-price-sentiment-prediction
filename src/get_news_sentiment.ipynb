{
 "cells": [
  {
   "cell_type": "code",
   "execution_count": 6,
   "id": "7291b303-8464-41d2-8555-875ca9125ac9",
   "metadata": {},
   "outputs": [
    {
     "name": "stdout",
     "output_type": "stream",
     "text": [
      "Collecting numpy<2\n",
      "  Using cached numpy-1.26.4-cp39-cp39-win_amd64.whl.metadata (61 kB)\n",
      "Using cached numpy-1.26.4-cp39-cp39-win_amd64.whl (15.8 MB)\n",
      "Installing collected packages: numpy\n",
      "  Attempting uninstall: numpy\n",
      "    Found existing installation: numpy 1.26.4\n",
      "    Uninstalling numpy-1.26.4:\n",
      "      Successfully uninstalled numpy-1.26.4\n",
      "Successfully installed numpy-1.26.4\n",
      "Note: you may need to restart the kernel to use updated packages.\n"
     ]
    },
    {
     "name": "stderr",
     "output_type": "stream",
     "text": [
      "WARNING: Ignoring invalid distribution -atplotlib (c:\\users\\andre\\anaconda3\\lib\\site-packages)\n",
      "WARNING: Ignoring invalid distribution -atplotlib (c:\\users\\andre\\anaconda3\\lib\\site-packages)\n",
      "  WARNING: Failed to remove contents in a temporary directory 'C:\\Users\\andre\\AppData\\Local\\Temp\\pip-uninstall-7yyt7s8k'.\n",
      "  You can safely remove it manually.\n",
      "WARNING: Ignoring invalid distribution -atplotlib (c:\\users\\andre\\anaconda3\\lib\\site-packages)\n",
      "ERROR: pip's dependency resolver does not currently take into account all the packages that are installed. This behaviour is the source of the following dependency conflicts.\n",
      "numba 0.56.4 requires numpy<1.24,>=1.18, but you have numpy 1.26.4 which is incompatible.\n",
      "tensorflow-intel 2.14.0 requires wrapt<1.15,>=1.11.0, but you have wrapt 1.17.0 which is incompatible.\n",
      "\n",
      "[notice] A new release of pip is available: 24.0 -> 25.0.1\n",
      "[notice] To update, run: python.exe -m pip install --upgrade pip\n"
     ]
    }
   ],
   "source": [
    "%pip install --upgrade --force-reinstall \"numpy<2\""
   ]
  },
  {
   "cell_type": "code",
   "execution_count": 7,
   "id": "27ab463e-0880-429c-b0a0-65a91690f41a",
   "metadata": {},
   "outputs": [],
   "source": [
    "import requests\n",
    "import pandas as pd\n",
    "import os\n",
    "\n",
    "API_KEY = \"6851f6c612f04629ba1d5804c91ea6a0\"\n",
    "\n",
    "#NewsAPI endpoint\n",
    "\n",
    "url = \"https://newsapi.org/v2/everything\""
   ]
  },
  {
   "cell_type": "code",
   "execution_count": 10,
   "id": "c06cd5da-59c9-4ed3-96e3-e19ee970cf4b",
   "metadata": {},
   "outputs": [],
   "source": [
    "#query parameters\n",
    "params = {\n",
    "    \"q\": \"stock market OR finance OR investing\",\n",
    "    \"language\": \"en\",\n",
    "    \"sortBy\": \"publishedAt\",\n",
    "    \"pageSize\": 20,\n",
    "    \"apiKey\": API_KEY,\n",
    "}\n",
    "\n",
    "# Make API request\n",
    "response = requests.get(url, params = params)"
   ]
  },
  {
   "cell_type": "code",
   "execution_count": 13,
   "id": "df17388e-e713-435d-91f3-c28faec4f550",
   "metadata": {},
   "outputs": [
    {
     "name": "stdout",
     "output_type": "stream",
     "text": [
      "Financial news data saved to data/financial_news.csv\n"
     ]
    }
   ],
   "source": [
    "if response.status_code == 200:\n",
    "    news_data = response.json()\n",
    "\n",
    "    #Extract relevant fields\n",
    "    articles = news_data.get(\"articles\", [])\n",
    "    processed_articles = []\n",
    "\n",
    "    for article in articles:\n",
    "        processed_articles.append({\n",
    "            \"title\": article[\"title\"],\n",
    "            \"description\": article[\"description\"],\n",
    "            \"source\": article[\"source\"][\"name\"],\n",
    "            \"url\": article[\"url\"],\n",
    "            \"publishedAt\": article[\"publishedAt\"]\n",
    "        })\n",
    "\n",
    "    #convert to df\n",
    "    df = pd.DataFrame(processed_articles)\n",
    "\n",
    "    #Ensure data folder exists\n",
    "    os.makedirs(\"data\", exist_ok = True)\n",
    "\n",
    "    #Save to CSV\n",
    "    df.to_csv(\"data/financial_news.csv\", index = False)\n",
    "    print(\"Financial news data saved to data/financial_news.csv\")\n",
    "\n",
    "else:\n",
    "\n",
    "    print(f\" Error fetching news: {response.status_code}, {response.text}\")\n",
    "    "
   ]
  },
  {
   "cell_type": "code",
   "execution_count": null,
   "id": "375b3ee0-614f-43f4-ab7e-29e443fd1a4b",
   "metadata": {},
   "outputs": [],
   "source": []
  }
 ],
 "metadata": {
  "kernelspec": {
   "display_name": "Python 3 (ipykernel)",
   "language": "python",
   "name": "python3"
  },
  "language_info": {
   "codemirror_mode": {
    "name": "ipython",
    "version": 3
   },
   "file_extension": ".py",
   "mimetype": "text/x-python",
   "name": "python",
   "nbconvert_exporter": "python",
   "pygments_lexer": "ipython3",
   "version": "3.9.15"
  }
 },
 "nbformat": 4,
 "nbformat_minor": 5
}
