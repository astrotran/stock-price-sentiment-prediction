{
 "cells": [
  {
   "cell_type": "code",
   "execution_count": 7,
   "id": "993c56c7",
   "metadata": {},
   "outputs": [
    {
     "ename": "IndentationError",
     "evalue": "unexpected indent (1692239502.py, line 16)",
     "output_type": "error",
     "traceback": [
      "\u001b[1;36m  File \u001b[1;32m\"C:\\Users\\andre\\AppData\\Local\\Temp\\ipykernel_38528\\1692239502.py\"\u001b[1;36m, line \u001b[1;32m16\u001b[0m\n\u001b[1;33m    if stock_data.empty:\u001b[0m\n\u001b[1;37m    ^\u001b[0m\n\u001b[1;31mIndentationError\u001b[0m\u001b[1;31m:\u001b[0m unexpected indent\n"
     ]
    }
   ],
   "source": [
    "import yfinance as yf\n",
    "import pandas as pd\n",
    "import os\n",
    "\n",
    "#Define the stock ticker symbol (e.g. Apple)\n",
    "tickers = [\"AAPL\", \"TSLA\", \"AMZN\", \"GOOGL\", \"MSFT\", \"NVDA\", \"NFLX\", \"META\"]\n",
    "\n",
    "os.makedirs(\"data\", exist_ok = True)\n",
    "\n",
    "#loop through each ticker and fetch data\n",
    "for ticker in tickers:\n",
    "    print(f\"Fetching data for {ticker}...\")\n",
    "    \n",
    "    try: \n",
    "        \n",
    "        stock_data = yf.download(ticker, start = \"2023-01-01\", end = \"2023-12-31\")\n",
    "        \n",
    "        if stock_data.empty:\n",
    "            print(f\"No data found for {ticker}. Skipping...\")\n",
    "            continue\n",
    "            \n",
    "        #save the data to CSV\n",
    "        filename = f\"data/{ticker}_stock_prices.csv\"\n",
    "        stock_data.to_csv(filename)\n",
    "        print(f\"Saved {ticker} data to {fiename}\")\n",
    "        \n",
    "    except Exception as e:\n",
    "        \n",
    "        print(f\"Error fetching data for {ticker}: {e}\")\n",
    "        \n",
    "print(\"Finished download stock data.\")"
   ]
  }
 ],
 "metadata": {
  "kernelspec": {
   "display_name": "Python 3 (ipykernel)",
   "language": "python",
   "name": "python3"
  },
  "language_info": {
   "codemirror_mode": {
    "name": "ipython",
    "version": 3
   },
   "file_extension": ".py",
   "mimetype": "text/x-python",
   "name": "python",
   "nbconvert_exporter": "python",
   "pygments_lexer": "ipython3",
   "version": "3.9.15"
  }
 },
 "nbformat": 4,
 "nbformat_minor": 5
}
