{
 "cells": [
  {
   "cell_type": "code",
   "execution_count": 6,
   "id": "993c56c7",
   "metadata": {},
   "outputs": [
    {
     "name": "stderr",
     "output_type": "stream",
     "text": [
      "[*********************100%***********************]  1 of 1 completed\n",
      "\n",
      "1 Failed download:\n",
      "['AAPPL']: YFTzMissingError('$%ticker%: possibly delisted; no timezone found')\n"
     ]
    },
    {
     "name": "stdout",
     "output_type": "stream",
     "text": [
      "Downloaded stock data for AAPPL and saved to data/AAPPL_stock_prices.csv\n"
     ]
    }
   ],
   "source": [
    "import yfinance as yf\n",
    "import pandas as pd\n",
    "import os\n",
    "\n",
    "#Define the stock ticker symbol (e.g. Apple)\n",
    "ticker = \"AAPPL\"\n",
    "\n",
    "#Fetch historical data (past 1 year)\n",
    "stock_data = yf.download(ticker, start = \"2023-01-01\", end = \"2023-12-31\")\n",
    "os.chdir(\"C:/Users/andre/projects/stock-price-sentiment-prediction/\")\n",
    "#save the data to CSV\n",
    "stock_data.to_csv(f\"data/{ticker}_stock_prices.csv\")\n",
    "\n",
    "print(f\"Downloaded stock data for {ticker} and saved to data/{ticker}_stock_prices.csv\")"
   ]
  }
 ],
 "metadata": {
  "kernelspec": {
   "display_name": "Python 3 (ipykernel)",
   "language": "python",
   "name": "python3"
  },
  "language_info": {
   "codemirror_mode": {
    "name": "ipython",
    "version": 3
   },
   "file_extension": ".py",
   "mimetype": "text/x-python",
   "name": "python",
   "nbconvert_exporter": "python",
   "pygments_lexer": "ipython3",
   "version": "3.9.15"
  }
 },
 "nbformat": 4,
 "nbformat_minor": 5
}
