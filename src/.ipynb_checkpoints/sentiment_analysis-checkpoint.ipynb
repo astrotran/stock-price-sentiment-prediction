{
 "cells": [
  {
   "cell_type": "code",
   "execution_count": 9,
   "id": "c14b7d6d-f873-43f6-91a8-a6dcacef1751",
   "metadata": {},
   "outputs": [],
   "source": [
    "import pandas as pd\n",
    "import os"
   ]
  },
  {
   "cell_type": "code",
   "execution_count": null,
   "id": "b8c073bd-28a4-404f-9f41-c746c5a286f9",
   "metadata": {},
   "outputs": [],
   "source": [
    "%pip uninstall nltk"
   ]
  },
  {
   "cell_type": "code",
   "execution_count": null,
   "id": "31b4fc63-79a9-40c3-a028-6608d15de252",
   "metadata": {},
   "outputs": [],
   "source": []
  },
  {
   "cell_type": "code",
   "execution_count": null,
   "id": "0717086e-17c9-4a4d-be70-a3dc8e54bfeb",
   "metadata": {},
   "outputs": [],
   "source": [
    "\n"
   ]
  },
  {
   "cell_type": "code",
   "execution_count": null,
   "id": "4193c8fe-fc24-44cc-885c-428ffac5ed1f",
   "metadata": {},
   "outputs": [],
   "source": []
  },
  {
   "cell_type": "code",
   "execution_count": null,
   "id": "1c8d2953-1201-4486-b0c6-b9a861dcffbe",
   "metadata": {},
   "outputs": [],
   "source": []
  }
 ],
 "metadata": {
  "kernelspec": {
   "display_name": "Python 3 (ipykernel)",
   "language": "python",
   "name": "python3"
  },
  "language_info": {
   "codemirror_mode": {
    "name": "ipython",
    "version": 3
   },
   "file_extension": ".py",
   "mimetype": "text/x-python",
   "name": "python",
   "nbconvert_exporter": "python",
   "pygments_lexer": "ipython3",
   "version": "3.9.15"
  }
 },
 "nbformat": 4,
 "nbformat_minor": 5
}
